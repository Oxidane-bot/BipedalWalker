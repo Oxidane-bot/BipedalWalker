{
  "cells": [
    {
      "cell_type": "markdown",
      "metadata": {
        "id": "QTNU1mwGB1ZD"
      },
      "source": [
        "**Dependencies and setup**\n",
        "\n",
        "This can take a minute or so..."
      ]
    },
    {
      "cell_type": "code",
      "execution_count": 1,
      "metadata": {
        "id": "rA38jtUgtZsG",
        "vscode": {
          "languageId": "python"
        }
      },
      "outputs": [],
      "source": [
        "%%capture\n",
        "!apt update\n",
        "!apt install xvfb -y\n",
        "!pip install 'swig'\n",
        "!pip install 'pyglet==1.5.27'\n",
        "!pip install 'gym[box2d]==0.20.0'\n",
        "!pip install 'pyvirtualdisplay==3.0'\n",
        "\n",
        "import gym\n",
        "import random\n",
        "import numpy as np\n",
        "import torch\n",
        "import torch.nn as nn\n",
        "import torch.nn.functional as F\n",
        "import torch.optim as optim\n",
        "import matplotlib.pyplot as plt\n",
        "import sys\n",
        "from pyvirtualdisplay import Display\n",
        "from IPython import display as disp\n",
        "%matplotlib inline\n",
        "\n",
        "display = Display(visible=0,size=(600,600))\n",
        "display.start()\n",
        "device = torch.device('cuda') if torch.cuda.is_available() else torch.device('cpu')\n",
        "\n",
        "plot_interval = 10 # update the plot every N episodes\n",
        "video_every = 25 # videos can take a very long time to render so only do it every N episodes"
      ]
    },
    {
      "cell_type": "markdown",
      "metadata": {
        "id": "UJHtclV_30Re"
      },
      "source": [
        "**Reinforcement learning agent**\n",
        "\n",
        "Replace this with your own agent - I recommend starting with TD3 (lecture 8)"
      ]
    },
    {
      "cell_type": "code",
      "execution_count": 2,
      "metadata": {
        "id": "4jXNHP8_U-rn",
        "vscode": {
          "languageId": "python"
        }
      },
      "outputs": [],
      "source": [
        "class ReplayBuffer:\n",
        "    def __init__(self, capacity):\n",
        "        self.capacity = capacity\n",
        "        self.buffer = []\n",
        "        self.position = 0\n",
        "    \n",
        "    def push(self, state, action, reward, next_state, done):\n",
        "        if len(self.buffer) < self.capacity:\n",
        "            self.buffer.append(None)\n",
        "        self.buffer[self.position] = (state, action, reward, next_state, done)\n",
        "        self.position = (self.position + 1) % self.capacity\n",
        "    \n",
        "    def sample(self, batch_size):\n",
        "        batch = random.sample(self.buffer, batch_size)\n",
        "        state, action, reward, next_state, done = map(np.stack, zip(*batch))\n",
        "        return state, action, reward, next_state, done\n",
        "    \n",
        "    def __len__(self):\n",
        "        return len(self.buffer)\n",
        "\n",
        "def soft_update(net, target_net, soft_tau=1e-2):\n",
        "    for target_param, param in zip(target_net.parameters(), net.parameters()):\n",
        "            target_param.data.copy_(\n",
        "                target_param.data * (1.0 - soft_tau) + param.data * soft_tau\n",
        "            )\n",
        "\n",
        "\n",
        "class GaussianExploration(object):\n",
        "    def __init__(self, action_space, max_sigma=1, min_sigma=0.1, decay_period=100000):\n",
        "        self.low  = action_space.low\n",
        "        self.high = action_space.high\n",
        "        self.max_sigma = max_sigma\n",
        "        self.min_sigma = min_sigma\n",
        "        self.decay_period = decay_period\n",
        "    \n",
        "    def get_action(self, action, t=0):\n",
        "        sigma  = self.max_sigma - (self.max_sigma - self.min_sigma) * min(1.0, t / self.decay_period)\n",
        "        action = action + np.random.normal(size=len(action)) * sigma\n",
        "        return np.clip(action, self.low, self.high)\n",
        "\n",
        "# https://github.com/vitchyr/rlkit/blob/master/rlkit/exploration_strategies/gaussian_strategy.py\n",
        "\n",
        "class DecayingOUExploration(object):\n",
        "    def __init__(self, action_space, mu=0.0, theta=0.15, sigma=0.3, max_sigma=1.0, min_sigma=0.1, decay_period=100000):\n",
        "        self.low = action_space.low\n",
        "        self.high = action_space.high\n",
        "        self.mu = mu\n",
        "        self.theta = theta\n",
        "        self.sigma = sigma\n",
        "        self.max_sigma = max_sigma\n",
        "        self.min_sigma = min_sigma\n",
        "        self.decay_period = decay_period\n",
        "        self.x = np.ones(len(self.low)) * self.mu\n",
        "\n",
        "    def get_action(self, action, t=0):\n",
        "        sigma = self.max_sigma - (self.max_sigma - self.min_sigma) * min(1.0, t / self.decay_period)\n",
        "        dx = self.theta * (self.mu - self.x)\n",
        "        dx = dx + sigma * np.random.normal(size=len(action))\n",
        "        self.x = self.x + dx\n",
        "        action = action + self.x\n",
        "        return np.clip(action, self.low, self.high)\n",
        "\n",
        "    \n",
        "\n",
        "\n",
        "# A and C        \n",
        "class ValueNetwork(nn.Module):\n",
        "    def __init__(self, num_inputs, num_actions, hidden_size, init_w=3e-3):\n",
        "        super(ValueNetwork, self).__init__()\n",
        "        \n",
        "        self.linear1 = nn.Linear(num_inputs + num_actions, hidden_size)\n",
        "        self.linear2 = nn.Linear(hidden_size, hidden_size)\n",
        "        self.linear3 = nn.Linear(hidden_size, 1)\n",
        "        \n",
        "        self.linear3.weight.data.uniform_(-init_w, init_w)\n",
        "        self.linear3.bias.data.uniform_(-init_w, init_w)\n",
        "        \n",
        "    def forward(self, state, action):\n",
        "        x = torch.cat([state, action], 1)\n",
        "        x = F.relu(self.linear1(x))\n",
        "        x = F.relu(self.linear2(x))\n",
        "        x = self.linear3(x)\n",
        "        return x\n",
        "    \n",
        "\n",
        "class PolicyNetwork(nn.Module):\n",
        "    def __init__(self, num_inputs, num_actions, hidden_size, init_w=3e-3):\n",
        "        super(PolicyNetwork, self).__init__()\n",
        "        \n",
        "        self.linear1 = nn.Linear(num_inputs, hidden_size)\n",
        "        self.linear2 = nn.Linear(hidden_size, hidden_size)\n",
        "        self.linear3 = nn.Linear(hidden_size, num_actions)\n",
        "        \n",
        "        self.linear3.weight.data.uniform_(-init_w, init_w)\n",
        "        self.linear3.bias.data.uniform_(-init_w, init_w)\n",
        "        \n",
        "    def forward(self, state):\n",
        "        x = F.relu(self.linear1(state))\n",
        "        x = F.relu(self.linear2(x))\n",
        "        x = torch.tanh(self.linear3(x))\n",
        "        return x\n",
        "    \n",
        "    def get_action(self, state):\n",
        "        state  = torch.FloatTensor(state).unsqueeze(0).to(device)\n",
        "        action = self.forward(state)\n",
        "        return action.detach().cpu().numpy()[0]\n",
        "\n",
        "#https://github.com/higgsfield/RL-Adventure-2\n",
        "# --------------------------------------------------------------------------------------\n",
        "env = gym.make(\"BipedalWalker-v3\")\n",
        "# env = gym.make(\"BipedalWalkerHardcore-v3\") # only attempt this when your agent has solved BipedalWalker-v3\n",
        "\n",
        "# noise = GaussianExploration(env.action_space)\n",
        "noise = DecayingOUExploration(env.action_space)\n",
        "# parameter\n",
        "state_dim  = env.observation_space.shape[0]\n",
        "action_dim = env.action_space.shape[0]\n",
        "hidden_dim = 256\n",
        "policy_lr = 5e-4\n",
        "value_lr  = 5e-4\n",
        "soft_tau=1e-2\n",
        "\n",
        "value_net1 = ValueNetwork(state_dim, action_dim, hidden_dim).to(device)\n",
        "value_net2 = ValueNetwork(state_dim, action_dim, hidden_dim).to(device)\n",
        "policy_net = PolicyNetwork(state_dim, action_dim, hidden_dim).to(device)\n",
        "\n",
        "target_value_net1 = ValueNetwork(state_dim, action_dim, hidden_dim).to(device)\n",
        "target_value_net2 = ValueNetwork(state_dim, action_dim, hidden_dim).to(device)\n",
        "target_policy_net = PolicyNetwork(state_dim, action_dim, hidden_dim).to(device)\n",
        "\n",
        "soft_update(value_net1, target_value_net1, soft_tau=soft_tau)\n",
        "soft_update(value_net2, target_value_net2, soft_tau=soft_tau)\n",
        "soft_update(policy_net, target_policy_net, soft_tau=soft_tau)\n",
        "\n",
        "\n",
        "value_criterion = nn.MSELoss()\n",
        "\n",
        "\n",
        "\n",
        "value_optimizer1 = optim.Adam(value_net1.parameters(), lr=value_lr)\n",
        "value_optimizer2 = optim.Adam(value_net2.parameters(), lr=value_lr)\n",
        "policy_optimizer = optim.Adam(policy_net.parameters(), lr=policy_lr)\n",
        "\n",
        "\n",
        "replay_buffer_size = 1000000\n",
        "replay_buffer = ReplayBuffer(replay_buffer_size)\n",
        "\n",
        "batch_size  = 64\n",
        "\n",
        "# ---------------------------------------------------------------------------------------------\n",
        "#update \n",
        "def td3_update(step,\n",
        "           batch_size,\n",
        "           gamma = 0.98,\n",
        "           soft_tau=1e-2,\n",
        "           noise_std = 0.2,\n",
        "           noise_clip=0.5,\n",
        "           policy_update=2,\n",
        "          ):\n",
        "\n",
        "    state, action, reward, next_state, done = replay_buffer.sample(batch_size)\n",
        "\n",
        "    state      = torch.FloatTensor(state).to(device)\n",
        "    next_state = torch.FloatTensor(next_state).to(device)\n",
        "    action     = torch.FloatTensor(action).to(device)\n",
        "    reward     = torch.FloatTensor(reward).unsqueeze(1).to(device)\n",
        "    done       = torch.FloatTensor(np.float32(done)).unsqueeze(1).to(device)\n",
        "\n",
        "    next_action = target_policy_net(next_state)\n",
        "    noise = torch.normal(torch.zeros(next_action.size()), noise_std).to(device)\n",
        "    noise = torch.clamp(noise, -noise_clip, noise_clip)\n",
        "    next_action += noise\n",
        "\n",
        "    target_q_value1  = target_value_net1(next_state, next_action)\n",
        "    target_q_value2  = target_value_net2(next_state, next_action)\n",
        "    target_q_value   = torch.min(target_q_value1, target_q_value2)\n",
        "    expected_q_value = reward + (1.0 - done) * gamma * target_q_value\n",
        "\n",
        "    q_value1 = value_net1(state, action)\n",
        "    q_value2 = value_net2(state, action)\n",
        "\n",
        "    value_loss1 = value_criterion(q_value1, expected_q_value.detach())\n",
        "    value_loss2 = value_criterion(q_value2, expected_q_value.detach())\n",
        "\n",
        "    value_optimizer1.zero_grad()\n",
        "    value_loss1.backward()\n",
        "    value_optimizer1.step()\n",
        "\n",
        "    value_optimizer2.zero_grad()\n",
        "    value_loss2.backward()\n",
        "    value_optimizer2.step()\n",
        "\n",
        "    if step % policy_update == 0:\n",
        "        policy_loss = value_net1(state, policy_net(state))\n",
        "        policy_loss = -policy_loss.mean()\n",
        "\n",
        "        policy_optimizer.zero_grad()\n",
        "        policy_loss.backward()\n",
        "        policy_optimizer.step()\n",
        "\n",
        "        soft_update(value_net1, target_value_net1, soft_tau=soft_tau)\n",
        "        soft_update(value_net2, target_value_net2, soft_tau=soft_tau)\n",
        "        soft_update(policy_net, target_policy_net, soft_tau=soft_tau)\n",
        "\n"
      ]
    },
    {
      "cell_type": "markdown",
      "metadata": {
        "id": "QEv4ZjXmyrHo"
      },
      "source": [
        "**Prepare the environment and wrap it to capture videos**"
      ]
    },
    {
      "cell_type": "code",
      "execution_count": 3,
      "metadata": {
        "id": "1Xrcek4hxDXl",
        "vscode": {
          "languageId": "python"
        }
      },
      "outputs": [],
      "source": [
        "%%capture\n",
        "# env = gym.make(\"BipedalWalker-v3\")\n",
        "# env = gym.make(\"BipedalWalkerHardcore-v3\") # only attempt this when your agent has solved BipedalWalker-v3\n",
        "env = gym.wrappers.Monitor(env, \"./video\", video_callable=lambda ep_id: ep_id%video_every == 0, force=True)\n",
        "\n",
        "obs_dim = env.observation_space.shape[0]\n",
        "act_dim = env.action_space.shape[0]"
      ]
    },
    {
      "cell_type": "code",
      "execution_count": 4,
      "metadata": {
        "colab": {
          "base_uri": "https://localhost:8080/"
        },
        "id": "FUw4h980jfnu",
        "outputId": "c98e0351-babe-411a-9038-26942413a719",
        "vscode": {
          "languageId": "python"
        }
      },
      "outputs": [
        {
          "name": "stdout",
          "output_type": "stream",
          "text": [
            "The environment has 24 observations and the agent can take 4 actions\n",
            "The device is: cuda\n",
            "It's recommended to train on the cpu for this\n"
          ]
        }
      ],
      "source": [
        "print('The environment has {} observations and the agent can take {} actions'.format(obs_dim, act_dim))\n",
        "print('The device is: {}'.format(device))\n",
        "\n",
        "if device.type != 'cpu': print('It\\'s recommended to train on the cpu for this')"
      ]
    },
    {
      "cell_type": "code",
      "execution_count": null,
      "metadata": {
        "colab": {
          "base_uri": "https://localhost:8080/",
          "height": 279
        },
        "id": "rDl6ViIDlVOk",
        "outputId": "c7265f4c-cae3-4b6d-d1b0-89189a6aefc7",
        "vscode": {
          "languageId": "python"
        }
      },
      "outputs": [
        {
          "data": {
            "image/png": "[encoded data removed]",
            "text/plain": [
              "<Figure size 432x288 with 1 Axes>"
            ]
          },
          "metadata": {
            "needs_background": "light"
          },
          "output_type": "display_data"
        }
      ],
      "source": [
        "# in the submission please use seed 42 for verification\n",
        "seed = 42\n",
        "torch.manual_seed(seed)\n",
        "env.seed(seed)\n",
        "random.seed(seed)\n",
        "np.random.seed(seed)\n",
        "env.action_space.seed(seed)\n",
        "\n",
        "# logging variables\n",
        "ep_reward = 0\n",
        "reward_list = []\n",
        "plot_data = []\n",
        "log_f = open(\"agent-log.txt\",\"w+\")\n",
        "\n",
        "# initialise agent\n",
        "max_episodes = 1000\n",
        "max_timesteps = 2000\n",
        "\n",
        "# explorationsteps = 400\n",
        "# training procedure:\n",
        "for episode in range(1, max_episodes+1):\n",
        "    state = env.reset()\n",
        "    for t in range(max_timesteps):\n",
        "\n",
        "        # select the agent action\n",
        "        action = policy_net.get_action(state)\n",
        "        # if t < explorationsteps:\n",
        "        #   action = noise.get_action(action, t)\n",
        "\n",
        "\n",
        "        # take action in environment and get r and s'\n",
        "        next_state, reward, done, _ = env.step(action)\n",
        "        replay_buffer.push(state, action, reward, next_state, done)\n",
        "        if len(replay_buffer) > batch_size:\n",
        "            action = noise.get_action(action, episode)\n",
        "            td3_update(t, batch_size)\n",
        "\n",
        "        state = next_state\n",
        "        ep_reward += reward\n",
        "        \n",
        "        # stop iterating when the episode finished\n",
        "        if done or t==(max_timesteps-1):\n",
        "            break\n",
        "    \n",
        "    # append the episode reward to the reward list\n",
        "    reward_list.append(ep_reward)\n",
        "\n",
        "    # do NOT change this logging code - it is used for automated marking!\n",
        "    log_f.write('episode: {}, reward: {}\\n'.format(episode, ep_reward))\n",
        "    log_f.flush()\n",
        "    ep_reward = 0\n",
        "    \n",
        "    # print reward data every so often - add a graph like this in your report\n",
        "    if episode % plot_interval == 0:\n",
        "        plot_data.append([episode, np.array(reward_list).mean(), np.array(reward_list).std()])\n",
        "        reward_list = []\n",
        "        # plt.rcParams['figure.dpi'] = 100\n",
        "        plt.plot([x[0] for x in plot_data], [x[1] for x in plot_data], '-', color='tab:grey')\n",
        "        plt.fill_between([x[0] for x in plot_data], [x[1]-x[2] for x in plot_data], [x[1]+x[2] for x in plot_data], alpha=0.2, color='tab:grey')\n",
        "        plt.xlabel('Episode number')\n",
        "        plt.ylabel('Episode reward')\n",
        "        plt.show()\n",
        "        disp.clear_output(wait=True)\n",
        " \n"
      ]
    },
    {
      "cell_type": "code",
      "execution_count": null,
      "metadata": {
        "id": "FPCEf7Fzi7bu",
        "vscode": {
          "languageId": "python"
        }
      },
      "outputs": [],
      "source": [
        "from google.colab import drive\n",
        "drive.mount('/content/drive')"
      ]
    }
  ],
  "metadata": {
    "accelerator": "GPU",
    "colab": {
      "provenance": []
    },
    "gpuClass": "standard",
    "kernelspec": {
      "display_name": "Python 3",
      "name": "python3"
    }
  },
  "nbformat": 4,
  "nbformat_minor": 0
}
